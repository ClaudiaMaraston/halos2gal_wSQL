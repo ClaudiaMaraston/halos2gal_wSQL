{
 "cells": [
  {
   "cell_type": "markdown",
   "metadata": {},
   "source": [
    "# The Stellar Mass Function\n",
    "\n",
    "We are going to plot the observed Galaxy Stellar Mass Function from  [Baldry et al. 2012](https://arxiv.org/abs/1111.5707) and consider simple ways to go from the halo mass function we measured previously to a stellar mass function. But first, let's consider how we can go from photons to masses.\n",
    "\n",
    "## From luminosities to flux\n",
    "* Flux: Total amount of energy that crosses a unit area per unit time. $ \\nu F_{\\nu} = \\frac{\\nu_eL_{\\nu_e}}{4\\pi D_L^2(z)}$\n",
    "\n",
    "* From the definition of redshift we have: $ 1 + z = \\frac{\\lambda_{\\rm observed}}{\\lambda_{\\rm emitted}}=\\frac{\\nu_{\\rm emitted}}{\\nu_{\\rm observed}}=\\frac{\\nu_{\\rm e}}{\\nu} $\n",
    "\n",
    "* Thus: $ F_{\\nu} = (1+z)\\frac{L_{(1+z)\\nu}}{4\\pi D_L^2(z)}$\n",
    "\n",
    "## From flux to magnitudes\n",
    "* Magnitude: $m_1 - m_{ref} = -2.5log_{10}\\left(\\frac{{\\rm Flux}_1}{{\\rm Flux}_{ref}}\\right)$\n",
    "* Absolute magnitude, M: The magnitude of an object placed 10pc from the observer. \n",
    "* Apparent magnitude, m: $m = M + DM + K_e$\n",
    "* $m - M = -2.5log_{10}\\left(\\frac{F_{\\nu}}{F_{\\nu,{10\\rm pc}}}\\right) = -2.5log_{10}\\left((1+z)\\frac{L_{(1+z)\\nu}}{4\\pi D_L^2(z)}\\frac{4\\pi (10{\\rm pc})^2}{L_{\\nu}}\\right) = 5log_{10}\\left(\\frac{D_L(z)}{(10{\\rm pc})}\\right)  - 2.5log_{10}\\left((1+z)\\frac{L_{\\nu_e}}{L_{\\nu}}\\right)$\n",
    "\n",
    "## The luminosity function \n",
    "\n",
    "* Probability of finding one galaxy in a diferential volume: $dP=n\\,dV$, with n as the mean number of objects in a finite volume, V, per unit volume.\n",
    "* The average total number of objects will be $<N>=nV$.\n",
    "* Probability of finding a galaxy within $dV$ with a magnitude, $M_*-\\frac{dM_*}{2}\\le M_* \\le M_*+\\frac{dM_*}{2}$: \n",
    "$dP = \\Phi(M_*,t)dM_*dV$\n",
    "* We refer to $\\Phi(M_*,t)$ as the luminosity function, i.e., the average number of galaxies per stellar mass bin per volume at a given time (or redshift), such that, $ n = \\int_{-\\infty}^{\\infty}\\Phi(M_*,t)dM_* $\n",
    "\n",
    "<img src=\"images/lf.jpg\">\n",
    "\n",
    "* The shape of this curve follows approximately a Schecter function.\n",
    "\n",
    "## From magnitudes to masses\n",
    "\n",
    "* $\\frac{L}{L_{\\odot}}=\\frac{M}{M_{\\odot}}^{\\gamma}$ with $\\gamma$ being a function of the type of star, it's metallicity and age. A galaxy is composed by a mixture of different stars, and thus, the conversion between luminosities and stellar masses is not trivial. This is typically done by fitting the observed spectra to synthetic ones. Here there is the work flow from [BEAGLE](https://arxiv.org/abs/1603.03037), which is similar to those used by other codes, such as [FIREFLY](https://arxiv.org/abs/1612.01546).\n",
    "\n",
    "<img src=\"images/beagle.png\">"
   ]
  },
  {
   "cell_type": "code",
   "execution_count": null,
   "metadata": {
    "collapsed": true
   },
   "outputs": [],
   "source": []
  }
 ],
 "metadata": {
  "kernelspec": {
   "display_name": "Python 2",
   "language": "python",
   "name": "python2"
  },
  "language_info": {
   "codemirror_mode": {
    "name": "ipython",
    "version": 2
   },
   "file_extension": ".py",
   "mimetype": "text/x-python",
   "name": "python",
   "nbconvert_exporter": "python",
   "pygments_lexer": "ipython2",
   "version": "2.7.11"
  }
 },
 "nbformat": 4,
 "nbformat_minor": 1
}
