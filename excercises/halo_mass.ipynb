{
 "cells": [
  {
   "cell_type": "markdown",
   "metadata": {},
   "source": [
    "# The Halo Mass Function\n",
    "\n",
    "We are going to measure the Halo Mass Function from the MPAHalo table in the [millimil](http://galaxy-catalogue.dur.ac.uk:8080/Millennium/) in two ways and from two measures of halo mass. The millimil has been run in a cubic box of comovin side of $62.5 {\\rm Mpc}/h$ with dark matter particles with a minnimum mass of $0.86*10^9 {\\rm M}_{\\odot}/h$. The assumed cosmological parameters in this simulation are: $\\Omega_0 = 0.25$, $\\Lambda _0 = 0.75$, $\\Omega _b = 0.045$ and $h_0 = 0.73$. \n",
    "\n",
    "\n",
    "### Q.1 What is the Halo Mass Function?\n",
    "\n",
    "We are going to read the file you previously produced and make an SQL query, so we need to import the 'eagleSqlTools' and 'numpy' in our python program. In order to check the existance of files, we also need 'os.path'."
   ]
  },
  {
   "cell_type": "code",
   "execution_count": null,
   "metadata": {
    "collapsed": false
   },
   "outputs": [],
   "source": [
    "import eagleSqlTools as sql\n",
    "import numpy as np\n",
    "import os.path"
   ]
  },
  {
   "cell_type": "markdown",
   "metadata": {},
   "source": [
    "Next a connection needs to be defined, including a username (\"xyz\"), password (\"abc\") and link to the [Database](http://virgodb.dur.ac.uk:8080/Millennium): "
   ]
  },
  {
   "cell_type": "code",
   "execution_count": null,
   "metadata": {
    "collapsed": false,
    "scrolled": true
   },
   "outputs": [],
   "source": [
    "con = sql.connect(\"xyz\", \"abc\", url=\"http://virgodb.dur.ac.uk:8080/Millennium\")"
   ]
  },
  {
   "cell_type": "markdown",
   "metadata": {},
   "source": [
    "The SQL is defined as a string (spaces do not matter here) and can be run as follows: "
   ]
  },
  {
   "cell_type": "code",
   "execution_count": null,
   "metadata": {
    "collapsed": true
   },
   "outputs": [],
   "source": [
    "the_query = \"\"\"select .1*(.5+floor((log10(stellarMass)+10.)/.1)) as mass,\n",
    "                      log10(count(*)/power(62.5,3.)/.1) as phi\n",
    "               from millimil..DeLucia2006a\n",
    "               where snapnum = 63 and stellarMass > 0 \n",
    "               group by .1*(.5+floor((log10(stellarMass)+10.)/.1))\n",
    "               order by mass\"\"\"\n",
    "\n",
    "data = con.execute_query(the_query)\n",
    "mass = data[\"mass\"] \n",
    "phi = data[\"phi\"]"
   ]
  }
 ],
 "metadata": {
  "kernelspec": {
   "display_name": "Python [Root]",
   "language": "python",
   "name": "Python [Root]"
  },
  "language_info": {
   "codemirror_mode": {
    "name": "ipython",
    "version": 2
   },
   "file_extension": ".py",
   "mimetype": "text/x-python",
   "name": "python",
   "nbconvert_exporter": "python",
   "pygments_lexer": "ipython2",
   "version": "2.7.12"
  }
 },
 "nbformat": 4,
 "nbformat_minor": 1
}
