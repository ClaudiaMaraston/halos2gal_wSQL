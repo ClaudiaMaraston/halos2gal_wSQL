{
 "cells": [
  {
   "cell_type": "markdown",
   "metadata": {},
   "source": [
    "# The Virgo Database\n",
    "\n",
    "We are going to extract data from the [Virgo Database](http://virgo.dur.ac.uk/data.php), in particular from the [millimil](http://galaxy-catalogue.dur.ac.uk:8080/Millennium/) for which is not necessary to register. The millimil has been run in a cubic box of comovin side of $62.5 {\\rm Mpc}/h$ with dark matter particles with a minnimum mass of $0.86*10^9 {\\rm M}_{\\odot}/h$. The assumed cosmological parameters in this simulation are: $\\Omega_0 = 0.25$, $\\Lambda _0 = 0.75$, $\\Omega _b = 0.045$ and $h_0 = 0.73$, as for the [Millennium Simulation](https://arxiv.org/abs/astro-ph/0504097).\n",
    "\n",
    "\n",
    "### Q.1 What kind of data can  you find in the [Virgo Database](http://virgo.dur.ac.uk/data.php)?\n",
    "\n",
    "The information in Databases is sorted in tables. The data from a given table can be retrived using SQL. A good tutorial on SQL can be found [here](https://www.codeschool.com/courses/try-sql). The Virgo Database has a SQL query form, where queries can be directly typed:\n",
    "<img src=\"images/queryform.png\">\n",
    "\n",
    "Some demo queries are provided in the Database and [McAlpine et al. 2016](https://arxiv.org/abs/1510.01320) contains a lot of good examples.\n",
    "\n",
    "This is the information about the \"Snapshots\" table:\n",
    "<img src=\"images/snapshots.png\">\n",
    "\n",
    "Try out the following SQL query in the millimil query form, which downloads the redshift and snapshot numbers from the \"Snapshots\" table:\n",
    "\n",
    "``` mysql\n",
    "SELECT redshift, snapnum\n",
    "FROM snapshots; \n",
    "```\n",
    "\n",
    "The \"where\" clause is used in SQL to specify a condition. For example, to get all the information in the \"Snapshots\" table that corresponds to a snapshot number of 19:\n",
    "\n",
    "``` mysql\n",
    "SELECT *\n",
    "FROM snapshots\n",
    "WHERE snapnum = 19 ; \n",
    "```\n",
    "\n",
    "### Q.2 What is the snapshot number that corresponds to $z=0$?\n",
    "\n",
    "The same queries can be done using [python](https://docs.python.org/3/tutorial/). There are several packages to do so, including the one specifically created for the [Virgo Database](http://virgo.dur.ac.uk/data.php):\n",
    "\n",
    "```\n",
    "wget http://icc.dur.ac.uk/Eagle/Database/eagleSqlTools.py\n",
    "```\n",
    "\n",
    "This package needs to be imported:"
   ]
  },
  {
   "cell_type": "code",
   "execution_count": 2,
   "metadata": {},
   "outputs": [
    {
     "ename": "ImportError",
     "evalue": "No module named numpy",
     "output_type": "error",
     "traceback": [
      "\u001b[0;31m---------------------------------------------------------------------------\u001b[0m",
      "\u001b[0;31mImportError\u001b[0m                               Traceback (most recent call last)",
      "\u001b[0;32m<ipython-input-2-44eec499a8e7>\u001b[0m in \u001b[0;36m<module>\u001b[0;34m()\u001b[0m\n\u001b[0;32m----> 1\u001b[0;31m \u001b[0;32mimport\u001b[0m \u001b[0meagleSqlTools\u001b[0m \u001b[0;32mas\u001b[0m \u001b[0msql\u001b[0m\u001b[0;34m\u001b[0m\u001b[0m\n\u001b[0m",
      "\u001b[0;32m/home/local/UNI/gonzalev/projects/halos2gal/halos2gal_wSQL/excercises/eagleSqlTools.py\u001b[0m in \u001b[0;36m<module>\u001b[0;34m()\u001b[0m\n\u001b[1;32m      4\u001b[0m \u001b[0;31m# John Helly 2015 for the Virgo Consortium\u001b[0m\u001b[0;34m\u001b[0m\u001b[0;34m\u001b[0m\u001b[0m\n\u001b[1;32m      5\u001b[0m \u001b[0;34m\u001b[0m\u001b[0m\n\u001b[0;32m----> 6\u001b[0;31m \u001b[0;32mimport\u001b[0m \u001b[0mnumpy\u001b[0m \u001b[0;32mas\u001b[0m \u001b[0mnp\u001b[0m\u001b[0;34m\u001b[0m\u001b[0m\n\u001b[0m\u001b[1;32m      7\u001b[0m \u001b[0;32mimport\u001b[0m \u001b[0murllib\u001b[0m\u001b[0;34m\u001b[0m\u001b[0m\n\u001b[1;32m      8\u001b[0m \u001b[0;32mimport\u001b[0m \u001b[0murllib2\u001b[0m\u001b[0;34m\u001b[0m\u001b[0m\n",
      "\u001b[0;31mImportError\u001b[0m: No module named numpy"
     ]
    }
   ],
   "source": [
    "import eagleSqlTools as sql"
   ]
  },
  {
   "cell_type": "markdown",
   "metadata": {},
   "source": [
    "Next the connection needs to be defined, including a username (\"xyz\"), password (\"abc\") and link to the [Database](http://virgodb.dur.ac.uk:8080/Millennium): "
   ]
  },
  {
   "cell_type": "code",
   "execution_count": 1,
   "metadata": {},
   "outputs": [
    {
     "ename": "NameError",
     "evalue": "name 'sql' is not defined",
     "output_type": "error",
     "traceback": [
      "\u001b[0;31m---------------------------------------------------------------------------\u001b[0m",
      "\u001b[0;31mNameError\u001b[0m                                 Traceback (most recent call last)",
      "\u001b[0;32m<ipython-input-1-e17485023683>\u001b[0m in \u001b[0;36m<module>\u001b[0;34m()\u001b[0m\n\u001b[0;32m----> 1\u001b[0;31m \u001b[0mcon\u001b[0m \u001b[0;34m=\u001b[0m \u001b[0msql\u001b[0m\u001b[0;34m.\u001b[0m\u001b[0mconnect\u001b[0m\u001b[0;34m(\u001b[0m\u001b[0;34m\"xyz\"\u001b[0m\u001b[0;34m,\u001b[0m \u001b[0;34m\"abc\"\u001b[0m\u001b[0;34m,\u001b[0m \u001b[0murl\u001b[0m\u001b[0;34m=\u001b[0m\u001b[0;34m\"http://virgodb.dur.ac.uk:8080/Millennium\"\u001b[0m\u001b[0;34m)\u001b[0m\u001b[0;34m\u001b[0m\u001b[0m\n\u001b[0m\u001b[1;32m      2\u001b[0m \u001b[0;32mprint\u001b[0m \u001b[0;34m'hola'\u001b[0m\u001b[0;34m\u001b[0m\u001b[0m\n",
      "\u001b[0;31mNameError\u001b[0m: name 'sql' is not defined"
     ]
    }
   ],
   "source": [
    "con = sql.connect(\"xyz\", \"abc\", url=\"http://virgodb.dur.ac.uk:8080/Millennium\")\n",
    "\n",
    "the_query = \"\"\"SELECT * FROM snapshots WHERE snapnum = 19 ;\"\"\"\n",
    "\n",
    "print the_query"
   ]
  },
  {
   "cell_type": "markdown",
   "metadata": {},
   "source": [
    "Running the query defined above with the established connection provides"
   ]
  }
 ],
 "metadata": {
  "kernelspec": {
   "display_name": "Python 2",
   "language": "python",
   "name": "python2"
  },
  "language_info": {
   "codemirror_mode": {
    "name": "ipython",
    "version": 2
   },
   "file_extension": ".py",
   "mimetype": "text/x-python",
   "name": "python",
   "nbconvert_exporter": "python",
   "pygments_lexer": "ipython2",
   "version": "2.7.5"
  }
 },
 "nbformat": 4,
 "nbformat_minor": 1
}
