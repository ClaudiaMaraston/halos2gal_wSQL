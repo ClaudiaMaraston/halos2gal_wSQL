{
 "cells": [
  {
   "cell_type": "markdown",
   "metadata": {},
   "source": [
    "# The Virgo Database\n",
    "\n",
    "We are going to extract data from the [Virgo Database](http://virgo.dur.ac.uk/data.php), in particular from the [millimil](http://galaxy-catalogue.dur.ac.uk:8080/Millennium/) for which is not necessary to register. The millimil has been run in a cubic box of comovin side of $62.5 Mpc/h$ with dark matter particles with a minnimum mass of $0.86*10^9 M_sun/h$. The assumed cosmological parameters in this simulation are: $\\Omega_0 = 0.25$, $\\Lambda _0 = 0.75$, $\\Omega _b = 0.045$ and $h_0 = 0.73$, as for the [Millennium Simulation](https://arxiv.org/abs/astro-ph/0504097).\n",
    "\n",
    "\n",
    "### Q.1 What kind of data can  you find in the [Virgo Database](http://virgo.dur.ac.uk/data.php)?\n",
    "\n",
    "The information in Databases is sorted in tables. The data from a given table can be retrived using SQL. A good tutorial on SQL can be found [here](https://www.codeschool.com/courses/try-sql). The Virgo Database has a SQL query form, where queries can be directly typed:\n",
    "<img src=\"images/queryform.png\">\n",
    "\n",
    "Some demo queries are provided in the Database and [McAlpine et al. 2016](https://arxiv.org/abs/1510.01320) contains a lot of good examples.\n",
    "\n",
    "This is the information about the \"Snapshots\" table:\n",
    "<img src=\"images/snapshots.png\">\n",
    "\n",
    "Try out the following SQL query in the millimil query form, which downloads the redshift and snapshot numbers from the \"Snapshots\" table:\n",
    "\n",
    "``` mysql\n",
    "SELECT redshift, snapnum\n",
    "FROM snapshots; \n",
    "```\n",
    "\n",
    "The \"where\" clause is used in SQL to specify a condition. For example, to get all the information in the \"Snapshots\" table that corresponds to a snapshot number of 19:\n",
    "\n",
    "``` mysql\n",
    "SELECT *\n",
    "FROM snapshots\n",
    "WHERE snapnum = 19 ; \n",
    "```\n",
    "\n",
    "### Q.2 What is the snapshot number that corresponds to $z=0$?"
   ]
  },
  {
   "cell_type": "code",
   "execution_count": 0,
   "metadata": {
    "collapsed": true
   },
   "outputs": [],
   "source": [
    "import numpy as np\n",
    "from scipy.misc import logsumexp\n",
    "from matplotlib import pyplot as plt\n",
    "import emcee\n",
    "from astropy.visualization import hist\n",
    "from astropy.table import Table\n",
    "import mpl_style\n",
    "%matplotlib notebook\n",
    "plt.style.use(mpl_style.style1)"
   ]
  }
 ],
 "metadata": {
  "kernelspec": {
   "display_name": "Python 2",
   "language": "python",
   "name": "python2"
  },
  "language_info": {
   "codemirror_mode": {
    "name": "ipython",
    "version": 2
   },
   "file_extension": ".py",
   "mimetype": "text/x-python",
   "name": "python",
   "nbconvert_exporter": "python",
   "pygments_lexer": "ipython2",
   "version": "2.7.5"
  }
 },
 "nbformat": 4,
 "nbformat_minor": 1
}
