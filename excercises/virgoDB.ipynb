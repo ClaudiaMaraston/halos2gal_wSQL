{
 "cells": [
  {
   "cell_type": "markdown",
   "metadata": {},
   "source": [
    "# The Virgo Database\n",
    "\n",
    "We are going to extract data from the [Virgo Database](http://virgo.dur.ac.uk/data.php), in particular from the [millimil](http://galaxy-catalogue.dur.ac.uk:8080/Millennium/) for which is not necessary to register. The millimil has been run in a cubic box of comovin side of $62.5 {\\rm Mpc}/h$ with dark matter particles with a minnimum mass of $0.86*10^9 {\\rm M}_{\\odot}/h$. The assumed cosmological parameters in this simulation are: $\\Omega_0 = 0.25$, $\\Lambda _0 = 0.75$, $\\Omega _b = 0.045$ and $h_0 = 0.73$, as for the [Millennium Simulation](https://arxiv.org/abs/astro-ph/0504097).\n",
    "\n",
    "\n",
    "### Q.1 What kind of data can  you find in the [Virgo Database](http://virgo.dur.ac.uk/data.php)?\n",
    "\n",
    "The information in Databases is sorted in tables. The data from a given table can be retrived using SQL. A good tutorial on SQL can be found [here](https://www.codeschool.com/courses/try-sql). The Virgo Database has a SQL query form, where queries can be directly typed:\n",
    "<img src=\"images/queryform.png\">\n",
    "\n",
    "Some demo queries are provided in the Database and [McAlpine et al. 2016](https://arxiv.org/abs/1510.01320) contains a lot of good examples.\n",
    "\n",
    "This is the information about the \"Snapshots\" table:\n",
    "<img src=\"images/snapshots.png\">\n",
    "\n",
    "Try out the following SQL query in the millimil query form, which downloads the redshift and snapshot numbers from the \"Snapshots\" table:\n",
    "\n",
    "``` mysql\n",
    "SELECT redshift, snapnum\n",
    "FROM snapshots; \n",
    "```\n",
    "\n",
    "The \"where\" clause is used in SQL to specify a condition. For example, to get all the information in the \"Snapshots\" table that corresponds to a snapshot number of 19:\n",
    "\n",
    "``` mysql\n",
    "SELECT *\n",
    "FROM snapshots\n",
    "WHERE snapnum = 19 ; \n",
    "```\n",
    "\n",
    "#### Q.2 What is the snapshot number that corresponds to $z=0$?\n",
    "\n",
    "#### Q.3 Explore the table [MPAhalo](http://virgodb.dur.ac.uk:8080/Millennium/Help?page=databases/millimil/mpahalo) and make an SQL to get the number of simulation particles in halos at $z=0$. What is the minimum and maximum number of particles you find in a halo? Use the SQL command 'order by' to find out the answer. \n",
    "\n",
    "#### Q.4 Modify the above query changing the name of the variable, by using \"select np as nparticles\" and modifying the ordering command accordingly.\n",
    "\n",
    "#### Q.5 Modify your last query to also get one direct measure of the halo masses as $log_{10}({\\rm Mass/M}_{\\odot}h^{-1})$. To take logarithms in base 10 in SQL use the function 'log10'. You might need to ensure that what goes into the logarithm is above 0. Is the mass for the halo with the smallest number of particles what you expected?\n",
    "\n",
    "\n",
    "## SQL queries using python\n",
    "\n",
    "In this two works you can find a comparisson of halo masses defined in different ways and how this affect the results when populating them with galaxies: [Jiang et al. 2015](https://arxiv.org/abs/1311.6649) and [Knebe et al. 2015](https://arxiv.org/abs/1505.04607)\n",
    "\n",
    "The same queries can be done using [python](https://docs.python.org/3/tutorial/). There are several packages to do so, including the one specifically created for the [Virgo Database](http://virgo.dur.ac.uk/data.php): eagleSqlTools.py. This package requires numpy and needs to be imported in your python program:"
   ]
  },
  {
   "cell_type": "code",
   "execution_count": 21,
   "metadata": {
    "collapsed": false
   },
   "outputs": [],
   "source": [
    "import numpy as np\n",
    "import eagleSqlTools as sql"
   ]
  },
  {
   "cell_type": "markdown",
   "metadata": {},
   "source": [
    "Next a connection needs to be defined, including a username (\"xyz\"), password (\"abc\") and link to the [Database](http://virgodb.dur.ac.uk:8080/Millennium): "
   ]
  },
  {
   "cell_type": "code",
   "execution_count": 22,
   "metadata": {
    "collapsed": false,
    "scrolled": true
   },
   "outputs": [],
   "source": [
    "con = sql.connect(\"xyz\", \"abc\", url=\"http://virgodb.dur.ac.uk:8080/Millennium\")"
   ]
  },
  {
   "cell_type": "markdown",
   "metadata": {},
   "source": [
    "The SQL is defined as a string (spaces do not matter here) and can be run as follows: "
   ]
  },
  {
   "cell_type": "code",
   "execution_count": 23,
   "metadata": {
    "collapsed": false
   },
   "outputs": [
    {
     "name": "stdout",
     "output_type": "stream",
     "text": [
      "<type 'numpy.ndarray'>\n"
     ]
    }
   ],
   "source": [
    "the_query = \"\"\"SELECT * \n",
    "               FROM snapshots \n",
    "               WHERE snapnum = 19 ;\"\"\"\n",
    "\n",
    "data = con.execute_query(the_query)\n",
    "print type(data)"
   ]
  },
  {
   "cell_type": "markdown",
   "metadata": {},
   "source": [
    "To easily access the outcome from the query, a name can be given to each downloaded value:"
   ]
  },
  {
   "cell_type": "code",
   "execution_count": 24,
   "metadata": {
    "collapsed": false
   },
   "outputs": [
    {
     "name": "stdout",
     "output_type": "stream",
     "text": [
      "0.0 127.0\n"
     ]
    }
   ],
   "source": [
    "the_query = \"\"\"SELECT redshift as redshift, snapnum as snapnum\n",
    "               FROM snapshots ;\"\"\"\n",
    "\n",
    "data = con.execute_query(the_query)\n",
    "redshift = data[\"redshift\"]\n",
    "snapnum  = data[\"snapnum\"]\n",
    "\n",
    "print np.min(redshift),np.max(redshift)"
   ]
  },
  {
   "cell_type": "markdown",
   "metadata": {},
   "source": [
    "The information retrived from the SQL query, 'data', can be stored into a file, 'z_snap.txt', using for example savetxt from numpy:"
   ]
  },
  {
   "cell_type": "code",
   "execution_count": 25,
   "metadata": {
    "collapsed": false
   },
   "outputs": [
    {
     "name": "stdout",
     "output_type": "stream",
     "text": [
      "Output file: z_snap.txt\n"
     ]
    }
   ],
   "source": [
    "outfile = 'z_snap.txt'\n",
    "np.savetxt(outfile,data)\n",
    "print 'Output file:', outfile\n"
   ]
  },
  {
   "cell_type": "markdown",
   "metadata": {},
   "source": [
    "#### Q.6 What is the structure of this output file compared to what you get directly from making the query on line? \n",
    "\n",
    "Read the redhift from the output file:"
   ]
  },
  {
   "cell_type": "code",
   "execution_count": 20,
   "metadata": {
    "collapsed": false
   },
   "outputs": [
    {
     "name": "stdout",
     "output_type": "stream",
     "text": [
      "[  0.   1.   2.   3.   4.   5.   6.   7.   8.   9.  10.  11.  12.  13.  14.\n",
      "  15.  16.  17.  18.  19.  20.  21.  22.  23.  24.  25.  26.  27.  28.  29.\n",
      "  30.  31.  32.  33.  34.  35.  36.  37.  38.  39.  40.  41.  42.  43.  44.\n",
      "  45.  46.  47.  48.  49.  50.  51.  52.  53.  54.  55.  56.  57.  58.  59.\n",
      "  60.  61.  62.  63.]\n"
     ]
    }
   ],
   "source": [
    "read_snap = np.loadtxt(outfile, usecols=(1,), unpack=True)\n",
    "print read_snap\n"
   ]
  },
  {
   "cell_type": "markdown",
   "metadata": {},
   "source": [
    "### #Q.7 Using the SQL queries you performed at the beginning, modify the code above to produce a file with the number of simulation particles in haloes and one measurement of their mass at $z=0$, from the table [MPAhalo](http://virgodb.dur.ac.uk:8080/Millennium/Help?page=databases/millimil/mpahalo). "
   ]
  }
 ],
 "metadata": {
  "kernelspec": {
   "display_name": "Python 2",
   "language": "python",
   "name": "python2"
  },
  "language_info": {
   "codemirror_mode": {
    "name": "ipython",
    "version": 2
   },
   "file_extension": ".py",
   "mimetype": "text/x-python",
   "name": "python",
   "nbconvert_exporter": "python",
   "pygments_lexer": "ipython2",
   "version": "2.7.11"
  }
 },
 "nbformat": 4,
 "nbformat_minor": 1
}
